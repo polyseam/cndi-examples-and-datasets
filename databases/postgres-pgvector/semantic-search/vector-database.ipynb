{
 "cells": [
  {
   "cell_type": "raw",
   "id": "fcd145fa-10d4-4597-9250-1c61984fc5bb",
   "metadata": {},
   "source": [
    "# Copyright 2024 Google LLC\n",
    "#\n",
    "# Licensed under the Apache License, Version 2.0 (the \"License\");\n",
    "# you may not use this file except in compliance with the License.\n",
    "# You may obtain a copy of the License at\n",
    "#\n",
    "#     https://www.apache.org/licenses/LICENSE-2.0\n",
    "#\n",
    "# Unless required by applicable law or agreed to in writing, software\n",
    "# distributed under the License is distributed on an \"AS IS\" BASIS,\n",
    "# WITHOUT WARRANTIES OR CONDITIONS OF ANY KIND, either express or implied.\n",
    "# See the License for the specific language governing permissions and\n",
    "# limitations under the License."
   ]
  },
  {
   "cell_type": "raw",
   "id": "201cd5fa-25e0-4bd7-8a27-af1fc85a12e7",
   "metadata": {},
   "source": [
    "This section shows you how to upload Vectors into a Postgres table and run simple search queries using the SQL syntax.\n",
    "\n",
    "In this example, you use a dataset from a CSV file that contains a list of books in different genres. Pgvector will serve as a search engine."
   ]
  },
  {
   "cell_type": "raw",
   "id": "51247bbb-a52f-4003-9596-439f60f3b3c9",
   "metadata": {},
   "source": [
    "Install a Postgres database connector, a Pgvector module to support vector types with INSERT commands, and a fastembed library to vectorize the data."
   ]
  },
  {
   "cell_type": "code",
   "execution_count": null,
   "id": "1c3b796a-3b3a-4322-a276-d72c1dc8540e",
   "metadata": {},
   "outputs": [],
   "source": [
    "! pip install pgvector psycopg-binary psycopg fastembed"
   ]
  },
  {
   "cell_type": "raw",
   "id": "320f0cb6-61c9-42fe-b361-ea3c92c35421",
   "metadata": {},
   "source": [
    "Import required python libraries:"
   ]
  },
  {
   "cell_type": "code",
   "execution_count": null,
   "id": "bb5ca67b-607d-4b23-926a-6459ea584f45",
   "metadata": {},
   "outputs": [],
   "source": [
    "from pgvector.psycopg import register_vector\n",
    "import psycopg\n",
    "import os\n",
    "import sys\n",
    "import csv\n",
    "from fastembed import TextEmbedding\n",
    "from typing import List\n",
    "import numpy as np"
   ]
  },
  {
   "cell_type": "raw",
   "id": "15f64563-f932-4a38-bd96-5b9d5cfadfd3",
   "metadata": {},
   "source": [
    "Connect to the Postgres cluster:"
   ]
  },
  {
   "cell_type": "code",
   "execution_count": null,
   "id": "013284ff-e4b6-4ad7-b330-17860121c4c1",
   "metadata": {},
   "outputs": [],
   "source": [
    "conn = psycopg.connect(\n",
    "    dbname=os.environ.get(\"POSTGRESQL_DB\"),\n",
    "    host=os.environ.get(\"POSTGRESQL_HOST\"),\n",
    "    user=os.environ.get(\"POSTGRESQL_USER\"),\n",
    "    password=os.environ.get(\"POSTGRESQL_USER_PASSWORD\"),\n",
    "    autocommit=True)"
   ]
  },
  {
   "cell_type": "raw",
   "id": "f6f00b67-901e-4470-ab26-94c3b0e010d8",
   "metadata": {},
   "source": [
    "Ensure the pgvector is installed and prepare the table for vectors:"
   ]
  },
  {
   "cell_type": "code",
   "execution_count": null,
   "id": "75f71220-349b-41f0-89ea-1ba7a1c52771",
   "metadata": {},
   "outputs": [],
   "source": [
    "conn.execute('CREATE EXTENSION IF NOT EXISTS vector;')\n",
    "register_vector(conn)\n",
    "conn.execute('DROP TABLE IF EXISTS documents;')\n",
    "conn.execute('CREATE TABLE documents (id bigserial PRIMARY KEY, author text, title text, description text, embedding vector(384));')"
   ]
  },
  {
   "cell_type": "raw",
   "id": "df7eb305-6f3e-4215-8090-71d044a302aa",
   "metadata": {},
   "source": [
    "Load data from a CSV: It reads the dataset.csv file for inserting data into a Postgres table."
   ]
  },
  {
   "cell_type": "code",
   "execution_count": null,
   "id": "b08ebd75-0b8c-4805-a40f-634d2d5df3de",
   "metadata": {},
   "outputs": [],
   "source": [
    "books = [*csv.DictReader(open('dataset.csv'))]"
   ]
  },
  {
   "cell_type": "raw",
   "id": "c491a826-0f86-4a25-a0ba-cfad62c79da5",
   "metadata": {},
   "source": [
    "Declare the Embedding model and vectorize books descriptions from the dataset:"
   ]
  },
  {
   "cell_type": "code",
   "execution_count": null,
   "id": "637e4922-d58c-4eb3-91c2-03252422c662",
   "metadata": {},
   "outputs": [],
   "source": [
    "descriptions = [doc[\"description\"] for doc in books]\n",
    "embedding_model = TextEmbedding(model_name=\"BAAI/bge-small-en\")\n",
    "embeddings: List[np.ndarray] = list(embedding_model.embed(descriptions))"
   ]
  },
  {
   "cell_type": "raw",
   "id": "d1052335-63d3-4dd5-8e54-6627bb289abf",
   "metadata": {},
   "source": [
    "Insert data (author, title, book description and the corresponding vector) into the Postgres table:"
   ]
  },
  {
   "cell_type": "code",
   "execution_count": null,
   "id": "7d1cae5f-ffa3-44ea-8b9e-fd376cdc185c",
   "metadata": {},
   "outputs": [],
   "source": [
    "for i, doc in enumerate(books):\n",
    "    conn.execute('INSERT INTO documents (author, title, description, embedding) VALUES (%s, %s, %s, %s)', (doc[\"author\"], doc[\"title\"], doc[\"description\"], embeddings[i]))"
   ]
  },
  {
   "cell_type": "markdown",
   "id": "cbc7fb0d-1b75-4d39-b205-6fc2f7fff7ed",
   "metadata": {},
   "source": [
    "Query the Postgres database. It runs a search query about `drama about people and unhappy love` and displays results.\n",
    "\n",
    "This query performs a semantic search against the documents table in Postgres, retrieving a maximum of two results with highest match score relevant to your query text.\n",
    "It prints each result separated by a line of dashes, in the following format:\n",
    "\n",
    "- Title: Title of the book, Author: Author of the book\n",
    "- Book description as stored in your document's description row."
   ]
  },
  {
   "cell_type": "code",
   "execution_count": null,
   "id": "281a9791-8fb8-49f5-b80d-6ca849da4b88",
   "metadata": {},
   "outputs": [],
   "source": [
    "query_vector = list(embedding_model.embed([\"drama about people and unhappy love\"]))[0]\n",
    "response = conn.execute('SELECT title, author, description FROM documents ORDER BY embedding <-> %s LIMIT 2', (query_vector,)).fetchall()\n",
    "for hit in response:\n",
    "    print(\"Title: {}, Author: {}\".format(hit[0], hit[1]))\n",
    "    print(hit[2])\n",
    "    print(\"---------\")"
   ]
  }
 ],
 "metadata": {
  "kernelspec": {
   "display_name": "Python 3 (ipykernel)",
   "language": "python",
   "name": "python3"
  },
  "language_info": {
   "codemirror_mode": {
    "name": "ipython",
    "version": 3
   },
   "file_extension": ".py",
   "mimetype": "text/x-python",
   "name": "python",
   "nbconvert_exporter": "python",
   "pygments_lexer": "ipython3",
   "version": "3.11.0rc1"
  }
 },
 "nbformat": 4,
 "nbformat_minor": 5
}
